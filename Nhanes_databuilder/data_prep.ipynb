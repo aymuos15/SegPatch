{
 "cells": [
  {
   "cell_type": "code",
   "execution_count": 6,
   "metadata": {},
   "outputs": [],
   "source": [
    "#!unzip NHANESII_Annotations_VertebralOsetophytes.zip\n",
    "\n",
    "import os\n",
    "import pickle\n",
    "import numpy as np\n",
    "import cv2"
   ]
  },
  {
   "cell_type": "code",
   "execution_count": 7,
   "metadata": {},
   "outputs": [],
   "source": [
    "home = '/home/soumya/yuanhan/'\n",
    "folder_path = os.path.join(home, \"nhanes\")\n",
    "\n",
    "# List all .pkl files in the folder\n",
    "pkl_files = [file for file in os.listdir(folder_path) if file.endswith('.pkl')]"
   ]
  },
  {
   "cell_type": "code",
   "execution_count": 8,
   "metadata": {},
   "outputs": [],
   "source": [
    "# Create directories for the training and testing sets if they don't exist\n",
    "dataset = home + \"Dataset800_Nhanes\"\n",
    "images = dataset + \"/images\"\n",
    "labels = dataset + \"/labels\"\n",
    "os.makedirs(dataset, exist_ok=True)\n",
    "os.makedirs(images, exist_ok=True)\n",
    "os.makedirs(labels, exist_ok=True)"
   ]
  },
  {
   "cell_type": "markdown",
   "metadata": {},
   "source": [
    "#### Image Extraction"
   ]
  },
  {
   "cell_type": "code",
   "execution_count": 9,
   "metadata": {},
   "outputs": [],
   "source": [
    "save_dir = images\n",
    "\n",
    "# Read the .pkl files\n",
    "for file_name in pkl_files[:]:\n",
    "    file_path = os.path.join(folder_path, file_name)\n",
    "    with open(file_path, 'rb') as f:\n",
    "        data = pickle.load(f)\n",
    "        # Get the image array from the data\n",
    "        image_array = data['image']\n",
    "        \n",
    "        # np.save(os.path.join(save_dir, f\"{file_name[:-4]}\"), image_array)\n",
    "        cv2.imwrite(os.path.join(save_dir, f\"{file_name[:-4]}.png\"), image_array)"
   ]
  },
  {
   "cell_type": "markdown",
   "metadata": {},
   "source": [
    "#### Label Extraction"
   ]
  },
  {
   "cell_type": "code",
   "execution_count": 10,
   "metadata": {},
   "outputs": [],
   "source": [
    "save_dir = labels\n",
    "\n",
    "label = 0\n",
    "\n",
    "# Read the first 5 .pkl files\n",
    "for file_name in pkl_files[:]:\n",
    "    file_path = os.path.join(folder_path, file_name)\n",
    "    with open(file_path, 'rb') as f:\n",
    "        data = pickle.load(f)\n",
    "        for i in data['masks']:\n",
    "            label = label + data['masks'][i]\n",
    "\n",
    "        # np.save(os.path.join(save_dir, f\"{file_name[:-4]}\"), label)\n",
    "        cv2.imwrite(os.path.join(save_dir, f\"{file_name[:-4]}.png\"), label)\n",
    "        label = 0"
   ]
  }
 ],
 "metadata": {
  "kernelspec": {
   "display_name": "base",
   "language": "python",
   "name": "python3"
  },
  "language_info": {
   "codemirror_mode": {
    "name": "ipython",
    "version": 3
   },
   "file_extension": ".py",
   "mimetype": "text/x-python",
   "name": "python",
   "nbconvert_exporter": "python",
   "pygments_lexer": "ipython3",
   "version": "3.11.5"
  }
 },
 "nbformat": 4,
 "nbformat_minor": 2
}
