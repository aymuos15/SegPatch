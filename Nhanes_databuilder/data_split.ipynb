{
 "cells": [
  {
   "cell_type": "code",
   "execution_count": 5,
   "metadata": {},
   "outputs": [],
   "source": [
    "import os\n",
    "import shutil\n",
    "import random\n",
    "\n",
    "# Define the folder path\n",
    "home = \"/home/soumya/yuanhan/Dataset800_Nhanes/\""
   ]
  },
  {
   "cell_type": "code",
   "execution_count": 6,
   "metadata": {},
   "outputs": [
    {
     "name": "stdout",
     "output_type": "stream",
     "text": [
      "Splitting completed successfully.\n"
     ]
    }
   ],
   "source": [
    "# Set the path to your images and labels directories\n",
    "images_dir = home + \"images\"\n",
    "labels_dir = home + \"labels\"\n",
    "\n",
    "# Get a list of all the files in the images directory and sort them\n",
    "image_files = sorted(os.listdir(images_dir))\n",
    "label_files = sorted(os.listdir(labels_dir))\n",
    "\n",
    "# Shuffle the list of files\n",
    "combined_files = list(zip(image_files, label_files))\n",
    "random.shuffle(combined_files)\n",
    "image_files, label_files = zip(*combined_files)\n",
    "\n",
    "# Calculate the split index for 85%\n",
    "split_index = int(0.90 * len(image_files))\n",
    "\n",
    "# Split the files into training and testing sets\n",
    "train_image_files = image_files[:split_index]\n",
    "train_label_files = label_files[:split_index]\n",
    "test_image_files = image_files[split_index:]\n",
    "test_label_files = label_files[split_index:]\n",
    "\n",
    "# Create directories for the training and testing sets if they don't exist\n",
    "imagesTr = home + \"imagesTr\"\n",
    "imagesTs = home + \"imagesTs\"\n",
    "labelsTr = home + \"labelsTr\"\n",
    "labelsTs = home + \"labelsTs\"\n",
    "os.makedirs(imagesTr, exist_ok=True)\n",
    "os.makedirs(imagesTs, exist_ok=True)\n",
    "os.makedirs(labelsTr, exist_ok=True)\n",
    "os.makedirs(labelsTs, exist_ok=True)\n",
    "\n",
    "# Move the training files to the train directory\n",
    "for image_file, label_file in zip(train_image_files, train_label_files):\n",
    "    shutil.copy(os.path.join(images_dir, image_file), os.path.join(imagesTr, image_file))\n",
    "    shutil.copy(os.path.join(labels_dir, label_file), os.path.join(labelsTr, label_file))\n",
    "\n",
    "# Move the testing files to the test directory\n",
    "for image_file, label_file in zip(test_image_files, test_label_files):\n",
    "    shutil.copy(os.path.join(images_dir, image_file), os.path.join(imagesTs, image_file))\n",
    "    shutil.copy(os.path.join(labels_dir, label_file), os.path.join(labelsTs, label_file))\n",
    "\n",
    "print(\"Splitting completed successfully.\")"
   ]
  },
  {
   "cell_type": "markdown",
   "metadata": {},
   "source": [
    "### CHECK!"
   ]
  }
 ],
 "metadata": {
  "kernelspec": {
   "display_name": "base",
   "language": "python",
   "name": "python3"
  },
  "language_info": {
   "codemirror_mode": {
    "name": "ipython",
    "version": 3
   },
   "file_extension": ".py",
   "mimetype": "text/x-python",
   "name": "python",
   "nbconvert_exporter": "python",
   "pygments_lexer": "ipython3",
   "version": "3.11.5"
  }
 },
 "nbformat": 4,
 "nbformat_minor": 2
}
